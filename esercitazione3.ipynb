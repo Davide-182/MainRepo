{
 "cells": [
  {
   "cell_type": "markdown",
   "metadata": {
    "toc": true
   },
   "source": [
    "<h1>Table of Contents<span class=\"tocSkip\"></span></h1>\n",
    "<div class=\"toc\"><ul class=\"toc-item\"><li><span><a href=\"#NumPy\" data-toc-modified-id=\"NumPy-1\"><span class=\"toc-item-num\">1&nbsp;&nbsp;</span>NumPy</a></span><ul class=\"toc-item\"><li><span><a href=\"#Homework\" data-toc-modified-id=\"Homework-1.1\"><span class=\"toc-item-num\">1.1&nbsp;&nbsp;</span>Homework</a></span></li></ul></li></ul></div>"
   ]
  },
  {
   "cell_type": "markdown",
   "metadata": {},
   "source": [
    "# NumPy"
   ]
  },
  {
   "cell_type": "markdown",
   "metadata": {},
   "source": [
    "NumPy è una libreria open source per il linguaggio di programmazione Python, che aggiunge supporto a grandi **matrici**\n",
    "e **array multidimensionali** insieme a una vasta collezione di funzioni matematiche di alto livello per poter operare \n",
    "efficientemente su queste strutture dati."
   ]
  },
  {
   "cell_type": "markdown",
   "metadata": {},
   "source": [
    "##### Le basi: come creo un array?"
   ]
  },
  {
   "cell_type": "markdown",
   "metadata": {},
   "source": [
    "**Ricorda** : NumPy considera come array sia le matrici che i vettori! \n",
    "\n",
    "*Array* : insieme organizzato di elementi omogenei, identificati da uno stesso nome e da uno o più indici."
   ]
  },
  {
   "cell_type": "code",
   "execution_count": 1,
   "metadata": {},
   "outputs": [],
   "source": [
    "#importo la libreria di riferimento\n",
    "\n",
    "import numpy as np"
   ]
  },
  {
   "cell_type": "code",
   "execution_count": 2,
   "metadata": {},
   "outputs": [
    {
     "data": {
      "text/plain": [
       "array([[ 0,  1,  2,  3,  4],\n",
       "       [ 5,  6,  7,  8,  9],\n",
       "       [10, 11, 12, 13, 14]])"
      ]
     },
     "execution_count": 2,
     "metadata": {},
     "output_type": "execute_result"
    }
   ],
   "source": [
    "a = np.arange(15).reshape(3, 5)\n",
    "a"
   ]
  },
  {
   "cell_type": "code",
   "execution_count": 40,
   "metadata": {},
   "outputs": [
    {
     "data": {
      "text/plain": [
       "array([ 0,  1,  4,  9, 16, 25, 36, 49, 64, 81])"
      ]
     },
     "execution_count": 40,
     "metadata": {},
     "output_type": "execute_result"
    }
   ],
   "source": [
    "squares = np.array([x**2 for x in range(10)])\n",
    "squares"
   ]
  },
  {
   "cell_type": "code",
   "execution_count": 4,
   "metadata": {},
   "outputs": [
    {
     "data": {
      "text/plain": [
       "numpy.ndarray"
      ]
     },
     "execution_count": 4,
     "metadata": {},
     "output_type": "execute_result"
    }
   ],
   "source": [
    "type(squares)"
   ]
  },
  {
   "cell_type": "markdown",
   "metadata": {},
   "source": [
    "###### Metodi utili per array"
   ]
  },
  {
   "cell_type": "code",
   "execution_count": 5,
   "metadata": {},
   "outputs": [
    {
     "data": {
      "text/plain": [
       "(3, 5)"
      ]
     },
     "execution_count": 5,
     "metadata": {},
     "output_type": "execute_result"
    }
   ],
   "source": [
    "a.shape"
   ]
  },
  {
   "cell_type": "code",
   "execution_count": 6,
   "metadata": {},
   "outputs": [
    {
     "data": {
      "text/plain": [
       "2"
      ]
     },
     "execution_count": 6,
     "metadata": {},
     "output_type": "execute_result"
    }
   ],
   "source": [
    "a.ndim"
   ]
  },
  {
   "cell_type": "code",
   "execution_count": 7,
   "metadata": {},
   "outputs": [
    {
     "data": {
      "text/plain": [
       "'int32'"
      ]
     },
     "execution_count": 7,
     "metadata": {},
     "output_type": "execute_result"
    }
   ],
   "source": [
    "a.dtype.name"
   ]
  },
  {
   "cell_type": "code",
   "execution_count": 8,
   "metadata": {},
   "outputs": [
    {
     "data": {
      "text/plain": [
       "4"
      ]
     },
     "execution_count": 8,
     "metadata": {},
     "output_type": "execute_result"
    }
   ],
   "source": [
    "a.itemsize"
   ]
  },
  {
   "cell_type": "code",
   "execution_count": 9,
   "metadata": {},
   "outputs": [
    {
     "data": {
      "text/plain": [
       "15"
      ]
     },
     "execution_count": 9,
     "metadata": {},
     "output_type": "execute_result"
    }
   ],
   "source": [
    "a.size"
   ]
  },
  {
   "cell_type": "code",
   "execution_count": 10,
   "metadata": {},
   "outputs": [
    {
     "data": {
      "text/plain": [
       "numpy.ndarray"
      ]
     },
     "execution_count": 10,
     "metadata": {},
     "output_type": "execute_result"
    }
   ],
   "source": [
    "type(a)"
   ]
  },
  {
   "cell_type": "markdown",
   "metadata": {},
   "source": [
    "###### Creare array a partire da tipi diversi in Python"
   ]
  },
  {
   "cell_type": "markdown",
   "metadata": {},
   "source": [
    "La funzione **range( )** ritorna una sequenza di numeri, partendo da 0 di default, e incrementa di 1 (di default), e si ferma prima di uno specifico numero."
   ]
  },
  {
   "cell_type": "code",
   "execution_count": 11,
   "metadata": {},
   "outputs": [
    {
     "name": "stdout",
     "output_type": "stream",
     "text": [
      "<class 'list'>\n",
      "<class 'tuple'>\n",
      "<class 'set'>\n"
     ]
    }
   ],
   "source": [
    "squares = [x**2 for x in range(10)]         # list\n",
    "cubes = tuple(x**3 for x in range(10))      # tuple\n",
    "evens = {x for x in range(10) if x%2 == 0}  # set\n",
    "\n",
    "print(type(squares))\n",
    "print(type(cubes))\n",
    "print(type(evens))"
   ]
  },
  {
   "cell_type": "code",
   "execution_count": 12,
   "metadata": {},
   "outputs": [
    {
     "data": {
      "text/plain": [
       "[0, 1, 4, 9, 16, 25, 36, 49, 64, 81]"
      ]
     },
     "execution_count": 12,
     "metadata": {},
     "output_type": "execute_result"
    }
   ],
   "source": [
    "squares"
   ]
  },
  {
   "cell_type": "code",
   "execution_count": 13,
   "metadata": {},
   "outputs": [
    {
     "data": {
      "text/plain": [
       "(0, 1, 8, 27, 64, 125, 216, 343, 512, 729)"
      ]
     },
     "execution_count": 13,
     "metadata": {},
     "output_type": "execute_result"
    }
   ],
   "source": [
    "cubes"
   ]
  },
  {
   "cell_type": "code",
   "execution_count": 14,
   "metadata": {},
   "outputs": [
    {
     "data": {
      "text/plain": [
       "{0, 2, 4, 6, 8}"
      ]
     },
     "execution_count": 14,
     "metadata": {},
     "output_type": "execute_result"
    }
   ],
   "source": [
    "evens"
   ]
  },
  {
   "cell_type": "code",
   "execution_count": 15,
   "metadata": {},
   "outputs": [
    {
     "name": "stdout",
     "output_type": "stream",
     "text": [
      "<class 'numpy.ndarray'>\n"
     ]
    }
   ],
   "source": [
    "a = np.array(squares)\n",
    "b = np.array(cubes)\n",
    "c = np.array(evens)\n",
    "\n",
    "if type(a) == type(b) == type(c):\n",
    "    print(type(a))"
   ]
  },
  {
   "cell_type": "code",
   "execution_count": 16,
   "metadata": {},
   "outputs": [
    {
     "name": "stdout",
     "output_type": "stream",
     "text": [
      "2\n",
      "3\n"
     ]
    }
   ],
   "source": [
    "seq2 = [[x, x**2, x**3] for x in range(10)]\n",
    "seq3 = [[[x for x in range(3)], [y for y in range(3, 6)]] for z in range(10)]\n",
    "\n",
    "a = np.array(seq2) \n",
    "b = np.array(seq3)\n",
    "\n",
    "print(a.ndim)\n",
    "print(b.ndim)"
   ]
  },
  {
   "cell_type": "code",
   "execution_count": 17,
   "metadata": {},
   "outputs": [
    {
     "name": "stdout",
     "output_type": "stream",
     "text": [
      "[[0 0 0]\n",
      " [0 0 0]\n",
      " [0 0 0]] int32\n",
      "[[1. 1.]\n",
      " [1. 1.]] float64\n",
      "[[0.000e+000 0.000e+000 0.000e+000]\n",
      " [0.000e+000 0.000e+000 7.233e-321]\n",
      " [0.000e+000 0.000e+000 0.000e+000]] float64\n"
     ]
    }
   ],
   "source": [
    "zeros = np.zeros((3, 3), dtype=np.int32) \n",
    "ones = np.ones((2, 2), dtype=np.float64)\n",
    "empty = np.empty((3, 3))\n",
    "\n",
    "print(zeros, zeros.dtype.name)\n",
    "print(ones, ones.dtype.name)\n",
    "print(empty, empty.dtype.name)"
   ]
  },
  {
   "cell_type": "code",
   "execution_count": 18,
   "metadata": {},
   "outputs": [
    {
     "data": {
      "text/plain": [
       "array([ 5, 10, 15, 20, 25])"
      ]
     },
     "execution_count": 18,
     "metadata": {},
     "output_type": "execute_result"
    }
   ],
   "source": [
    "a = np.arange(5, 30, 5) \n",
    "a"
   ]
  },
  {
   "cell_type": "code",
   "execution_count": 19,
   "metadata": {},
   "outputs": [
    {
     "data": {
      "text/plain": [
       "array([ 0.00000000e+00,  6.42787610e-01,  9.84807753e-01,  8.66025404e-01,\n",
       "        3.42020143e-01, -3.42020143e-01, -8.66025404e-01, -9.84807753e-01,\n",
       "       -6.42787610e-01, -2.44929360e-16])"
      ]
     },
     "execution_count": 19,
     "metadata": {},
     "output_type": "execute_result"
    }
   ],
   "source": [
    "from numpy import pi\n",
    "\n",
    "c = np.linspace(0, 2*pi, 10)\n",
    "\n",
    "f = np.sin(c)\n",
    "f"
   ]
  },
  {
   "cell_type": "code",
   "execution_count": 20,
   "metadata": {},
   "outputs": [
    {
     "data": {
      "text/plain": [
       "array([[0, 1, 2],\n",
       "       [2, 3, 4],\n",
       "       [4, 5, 6]])"
      ]
     },
     "execution_count": 20,
     "metadata": {},
     "output_type": "execute_result"
    }
   ],
   "source": [
    "def f(row_num, col_num):\n",
    "    return 2*row_num + col_num\n",
    "\n",
    "F = np.fromfunction(f, (3, 3), dtype=int)\n",
    "F"
   ]
  },
  {
   "cell_type": "markdown",
   "metadata": {},
   "source": [
    "###### Stampare array"
   ]
  },
  {
   "cell_type": "code",
   "execution_count": 21,
   "metadata": {},
   "outputs": [
    {
     "name": "stdout",
     "output_type": "stream",
     "text": [
      "[ 0  1  2  3  4  5  6  7  8  9 10 11 12 13 14]\n",
      "\n",
      "\n",
      "[[ 0  1  2  3  4]\n",
      " [ 5  6  7  8  9]\n",
      " [10 11 12 13 14]]\n",
      "\n",
      "\n",
      "[[[ 0  1  2  3]\n",
      "  [ 4  5  6  7]\n",
      "  [ 8  9 10 11]]\n",
      "\n",
      " [[12 13 14 15]\n",
      "  [16 17 18 19]\n",
      "  [20 21 22 23]]]\n"
     ]
    }
   ],
   "source": [
    "dim1 = np.arange(15)                  \n",
    "dim2 = np.arange(15).reshape(3, 5)    \n",
    "dim3 = np.arange(24).reshape(2, 3, 4)  \n",
    "print(dim1)\n",
    "print('\\n')\n",
    "print(dim2)\n",
    "print('\\n')\n",
    "print(dim3)"
   ]
  },
  {
   "cell_type": "markdown",
   "metadata": {},
   "source": [
    "###### Operazioni comuni con NumPy"
   ]
  },
  {
   "cell_type": "code",
   "execution_count": 22,
   "metadata": {},
   "outputs": [
    {
     "name": "stdout",
     "output_type": "stream",
     "text": [
      "[ 1  2  3  4  5  6  7  8  9 10]\n"
     ]
    }
   ],
   "source": [
    "a = np.arange(10) \n",
    "b = np.array([2 for x in range(10)])\n",
    "c = np.ones(10, dtype=int)\n",
    "result = a + b - c \n",
    "\n",
    "print(result)"
   ]
  },
  {
   "cell_type": "code",
   "execution_count": 23,
   "metadata": {},
   "outputs": [
    {
     "data": {
      "text/plain": [
       "array([ True,  True,  True,  True,  True,  True,  True,  True,  True,\n",
       "       False])"
      ]
     },
     "execution_count": 23,
     "metadata": {},
     "output_type": "execute_result"
    }
   ],
   "source": [
    "result < 10"
   ]
  },
  {
   "cell_type": "code",
   "execution_count": 24,
   "metadata": {},
   "outputs": [
    {
     "name": "stdout",
     "output_type": "stream",
     "text": [
      "[[10. 10. 10. 10. 10.]\n",
      " [10. 10. 10. 10. 10.]\n",
      " [10. 10. 10. 10. 10.]]\n",
      "\n",
      "[[5. 5. 5.]\n",
      " [5. 5. 5.]\n",
      " [5. 5. 5.]]\n",
      "\n",
      "[[5. 5. 5.]\n",
      " [5. 5. 5.]\n",
      " [5. 5. 5.]]\n"
     ]
    }
   ],
   "source": [
    "a = np.ones(15).reshape(3, 5)\n",
    "b = np.ones(15).reshape(5, 3)\n",
    "\n",
    "mult = a * 10           \n",
    "dot_prod1 = a.dot(b)   \n",
    "dot_prod2 = np.dot(a, b)\n",
    "\n",
    "print(mult, end='\\n\\n')\n",
    "print(dot_prod1, end='\\n\\n')\n",
    "print(dot_prod2)"
   ]
  },
  {
   "cell_type": "code",
   "execution_count": 25,
   "metadata": {},
   "outputs": [
    {
     "name": "stdout",
     "output_type": "stream",
     "text": [
      "float64\n",
      "complex128\n"
     ]
    }
   ],
   "source": [
    "a = np.ones(10, dtype=int)\n",
    "b = np.ones(10, dtype=float)\n",
    "c = np.ones(10, dtype=complex)\n",
    "\n",
    "a_plus_b = a + b \n",
    "b_plus_c = b + c \n",
    "\n",
    "print(a_plus_b.dtype.name)\n",
    "print(b_plus_c.dtype.name)\n"
   ]
  },
  {
   "cell_type": "code",
   "execution_count": 26,
   "metadata": {},
   "outputs": [
    {
     "name": "stdout",
     "output_type": "stream",
     "text": [
      "Sum: 55\n",
      "Min: 1\n",
      "Max: 10\n"
     ]
    }
   ],
   "source": [
    "a = np.arange(1, 11)\n",
    "print('Sum:', a.sum())\n",
    "print('Min:', a.min())\n",
    "print('Max:', a.max())"
   ]
  },
  {
   "cell_type": "code",
   "execution_count": 27,
   "metadata": {},
   "outputs": [
    {
     "name": "stdout",
     "output_type": "stream",
     "text": [
      "[18 21 24 27 30]\n",
      "[ 1  6 11]\n"
     ]
    },
    {
     "data": {
      "text/plain": [
       "array([[ 1,  2,  3,  4,  5],\n",
       "       [ 6,  7,  8,  9, 10],\n",
       "       [11, 12, 13, 14, 15]])"
      ]
     },
     "execution_count": 27,
     "metadata": {},
     "output_type": "execute_result"
    }
   ],
   "source": [
    "a = np.arange(15).reshape(3, 5) + 1\n",
    "\n",
    "print(a.sum(axis=0)) \n",
    "print(a.min(axis=1)) \n",
    "a"
   ]
  },
  {
   "cell_type": "markdown",
   "metadata": {},
   "source": [
    "###### Funzioni di diversa utilità"
   ]
  },
  {
   "cell_type": "code",
   "execution_count": 28,
   "metadata": {},
   "outputs": [
    {
     "name": "stdout",
     "output_type": "stream",
     "text": [
      "[ 0.00000000e+00  6.28381328e-04  1.25676241e-03 ... -1.25676241e-03\n",
      " -6.28381328e-04 -2.44929360e-16]\n",
      "\n",
      "[0.         0.02506754 0.03545085 ... 2.50637757 2.50650293 2.50662827]\n",
      "\n",
      "[  1.           1.00062858   1.00125755 ... 534.81909228 535.15526825\n",
      " 535.49165552]\n",
      "\n"
     ]
    }
   ],
   "source": [
    "a = np.linspace(0, 2*pi, 10000)\n",
    "\n",
    "sin_a = np.sin(a)\n",
    "sqrt_a = np.sqrt(a)\n",
    "exp_a = np.exp(a)\n",
    "\n",
    "print(sin_a, end='\\n\\n')\n",
    "print(sqrt_a, end='\\n\\n')\n",
    "print(exp_a, end='\\n\\n')"
   ]
  },
  {
   "cell_type": "markdown",
   "metadata": {},
   "source": [
    "##### Generazione numeri casuali"
   ]
  },
  {
   "cell_type": "markdown",
   "metadata": {},
   "source": [
    "Per la generazione di array di numeri causali a partire da vari tipi di distribuzione statistica si utilizza il modulo *random*:\n",
    "\n",
    "riferimento: https://docs.scipy.org/doc/numpy-1.14.0/reference/routines.random.html."
   ]
  },
  {
   "cell_type": "code",
   "execution_count": 29,
   "metadata": {},
   "outputs": [],
   "source": [
    "import numpy.random as rdm"
   ]
  },
  {
   "cell_type": "code",
   "execution_count": 30,
   "metadata": {},
   "outputs": [
    {
     "data": {
      "text/plain": [
       "array([[0.01890649, 0.33494389, 0.67640373, 0.41538939],\n",
       "       [0.94475276, 0.82569022, 0.5725889 , 0.89080955],\n",
       "       [0.00717492, 0.66429142, 0.06741774, 0.06169575],\n",
       "       [0.32363034, 0.89380421, 0.83570583, 0.98578978]])"
      ]
     },
     "execution_count": 30,
     "metadata": {},
     "output_type": "execute_result"
    }
   ],
   "source": [
    "A = rdm.random((4,4))\n",
    "A"
   ]
  },
  {
   "cell_type": "code",
   "execution_count": 31,
   "metadata": {},
   "outputs": [
    {
     "data": {
      "text/plain": [
       "array([[5, 2, 6, 6],\n",
       "       [2, 6, 4, 2],\n",
       "       [4, 1, 4, 2],\n",
       "       [5, 4, 3, 5]])"
      ]
     },
     "execution_count": 31,
     "metadata": {},
     "output_type": "execute_result"
    }
   ],
   "source": [
    "I = rdm.randint(1,7,(4,4))\n",
    "I"
   ]
  },
  {
   "cell_type": "code",
   "execution_count": 32,
   "metadata": {},
   "outputs": [
    {
     "data": {
      "text/plain": [
       "array([[3.03795704, 1.73913698, 2.74911965, 3.89629523, 3.32585421,\n",
       "        1.34408901],\n",
       "       [2.85834591, 1.13386189, 3.64416993, 2.11827528, 1.67713518,\n",
       "        1.95301575],\n",
       "       [1.82682344, 2.5559141 , 2.97316674, 2.57961695, 1.35201785,\n",
       "        2.39855445],\n",
       "       [1.99662211, 0.9248329 , 1.16338433, 2.34970733, 1.4211395 ,\n",
       "        0.96833117]])"
      ]
     },
     "execution_count": 32,
     "metadata": {},
     "output_type": "execute_result"
    }
   ],
   "source": [
    "N = rdm.normal(2,1,(4,6))\n",
    "N"
   ]
  },
  {
   "cell_type": "markdown",
   "metadata": {},
   "source": [
    "###### Indexing, slicing, and iterating"
   ]
  },
  {
   "cell_type": "code",
   "execution_count": 33,
   "metadata": {},
   "outputs": [
    {
     "name": "stdout",
     "output_type": "stream",
     "text": [
      "[[  1   4   9  16  25]\n",
      " [ 36  49  64  81 100]]\n",
      "\n",
      "A[0]\t\t [ 1  4  9 16 25]\n",
      "A[-1]\t\t [ 36  49  64  81 100]\n",
      "A[0][0]\t\t 1\n",
      "A[-1][-1]\t 100\n"
     ]
    }
   ],
   "source": [
    "A = np.array([x**2 for x in range(1, 11)]).reshape(2, 5)\n",
    "\n",
    "print(A, end='\\n\\n')\n",
    "print('A[0]\\t\\t', A[0])\n",
    "print('A[-1]\\t\\t', A[-1])\n",
    "print('A[0][0]\\t\\t', A[0][0])\n",
    "print('A[-1][-1]\\t', A[-1][-1])\n"
   ]
  },
  {
   "cell_type": "code",
   "execution_count": 34,
   "metadata": {},
   "outputs": [
    {
     "name": "stdout",
     "output_type": "stream",
     "text": [
      "[[   1    8   27]\n",
      " [  64  125  216]\n",
      " [ 343  512  729]\n",
      " [1000 1331 1728]]\n",
      "\n",
      "First Column:\t [   1   64  343 1000]\n",
      "Last Column:\t [  27  216  729 1728]\n",
      "First Row:\t [ 1  8 27]\n",
      "Last Row:\t [1000 1331 1728]\n"
     ]
    }
   ],
   "source": [
    "cubes = np.arange(1, 13).reshape(4, 3)**3\n",
    "\n",
    "print(cubes[:,:], end='\\n\\n')         \n",
    "print('First Column:\\t', cubes[:, 0]) \n",
    "print('Last Column:\\t', cubes[:, -1]) \n",
    "print('First Row:\\t', cubes[0, :])    \n",
    "print('Last Row:\\t', cubes[-1, :])"
   ]
  },
  {
   "cell_type": "code",
   "execution_count": 35,
   "metadata": {},
   "outputs": [
    {
     "data": {
      "text/plain": [
       "array([ 1,  2,  3,  4,  5,  6,  7,  8,  9, 10])"
      ]
     },
     "execution_count": 35,
     "metadata": {},
     "output_type": "execute_result"
    }
   ],
   "source": [
    "A = np.array([x+1 for x in range(10)])\n",
    "A"
   ]
  },
  {
   "cell_type": "code",
   "execution_count": 36,
   "metadata": {},
   "outputs": [
    {
     "name": "stdout",
     "output_type": "stream",
     "text": [
      "1,2,3,4,5,6,7,8,9,10,"
     ]
    }
   ],
   "source": [
    "for a in A:\n",
    "    print(a, end=',')"
   ]
  },
  {
   "cell_type": "code",
   "execution_count": 37,
   "metadata": {},
   "outputs": [
    {
     "name": "stdout",
     "output_type": "stream",
     "text": [
      "1,4,9,16,25,"
     ]
    }
   ],
   "source": [
    "A = A.reshape(2, 5)\n",
    "\n",
    "for a in A[0,:]: \n",
    "    print(a**2, end=',')"
   ]
  },
  {
   "cell_type": "markdown",
   "metadata": {},
   "source": [
    "###### Come splittare gli arrays"
   ]
  },
  {
   "cell_type": "code",
   "execution_count": 38,
   "metadata": {},
   "outputs": [
    {
     "name": "stdout",
     "output_type": "stream",
     "text": [
      "[[1. 1. 1.]\n",
      " [1. 1. 1.]\n",
      " [1. 1. 1.]]\n",
      "\n",
      "[[1.]\n",
      " [1.]\n",
      " [1.]]\n",
      "\n",
      "[[1.]\n",
      " [1.]\n",
      " [1.]]\n",
      "\n",
      "[[1.]\n",
      " [1.]\n",
      " [1.]]\n",
      "\n"
     ]
    }
   ],
   "source": [
    "a = np.ones(9).reshape(3, 3)\n",
    "\n",
    "a_1, a_2, a_3 = np.hsplit(a, 3)\n",
    "\n",
    "print(a, end='\\n\\n')\n",
    "print(a_1, end='\\n\\n')\n",
    "print(a_2, end='\\n\\n')\n",
    "print(a_3, end='\\n\\n')"
   ]
  },
  {
   "cell_type": "markdown",
   "metadata": {},
   "source": [
    "## Homework"
   ]
  },
  {
   "cell_type": "markdown",
   "metadata": {},
   "source": [
    "- Crea una matrice 3x3 con valori compresi tra 0 e 8\n",
    "- Crea un vettore random con 30 elementi e trova il valore medio\n",
    "- Trova gli indici degli elementi diversi da zero del seguente array [3,5,0,4,0,8,0]\n",
    "- Scrivi un programma per ottenere gli indici degli elementi ordinati di un dato array\n",
    "    ,esempio : \n",
    "     - array: [1023 5202 6230 1671 1682 5241 4532]\n",
    "     - indice degli elementi ordinati dell'array :[0 3 4 6 1 5 2]\n",
    "- Scrivi un programma che calcola la media attraverso la dimensione, in un array 2D\n",
    "    ,esempio : \n",
    "     - array:   \n",
    "       [[10 30]\n",
    "       \n",
    "       [20 60]]\n",
    "     - media di ogni colonna: [15 45]\n",
    "     - media di ogni riga: [20 40]"
   ]
  },
  {
   "cell_type": "markdown",
   "metadata": {},
   "source": [
    "Inoltre se volete continuare ad esercitarvi trovate una vasta gamma di esercizi di ogni tipologia su questo sito:\n",
    "https://www.w3resource.com/python-exercises/numpy/index.php\n",
    "    "
   ]
  },
  {
   "cell_type": "code",
   "execution_count": 17,
   "metadata": {},
   "outputs": [
    {
     "data": {
      "text/plain": [
       "array([[0, 1, 2],\n",
       "       [3, 4, 5],\n",
       "       [6, 7, 8]])"
      ]
     },
     "execution_count": 17,
     "metadata": {},
     "output_type": "execute_result"
    }
   ],
   "source": [
    "#esercizio 1\n",
    "import numpy as np\n",
    "l= np.arange(9).reshape(3, 3)\n",
    "l\n"
   ]
  },
  {
   "cell_type": "code",
   "execution_count": 23,
   "metadata": {},
   "outputs": [
    {
     "name": "stdout",
     "output_type": "stream",
     "text": [
      "la media è:\t 0.4635933303613248\n"
     ]
    },
    {
     "data": {
      "text/plain": [
       "array([0.88545118, 0.03814526, 0.33614577, 0.08035147, 0.56257604,\n",
       "       0.45180528, 0.94490468, 0.73971754, 0.69299017, 0.62192778,\n",
       "       0.32420705, 0.61672176, 0.99496855, 0.5447662 , 0.90622872,\n",
       "       0.41043084, 0.16189469, 0.47783975, 0.34420162, 0.4775362 ,\n",
       "       0.29239339, 0.24093299, 0.27260572, 0.31017928, 0.40589846,\n",
       "       0.35692554, 0.43095831, 0.25833155, 0.29542127, 0.43134285])"
      ]
     },
     "execution_count": 23,
     "metadata": {},
     "output_type": "execute_result"
    }
   ],
   "source": [
    "#esercizio 2\n",
    "import numpy.random as rdm\n",
    "\n",
    "vettore= rdm.rand(30)\n",
    "print ('la media è:\\t',vettore.sum()/len(vettore))\n",
    "vettore"
   ]
  },
  {
   "cell_type": "code",
   "execution_count": 24,
   "metadata": {},
   "outputs": [
    {
     "data": {
      "text/plain": [
       "0.4635933303613248"
      ]
     },
     "execution_count": 24,
     "metadata": {},
     "output_type": "execute_result"
    }
   ],
   "source": [
    "np.mean(vettore)"
   ]
  },
  {
   "cell_type": "code",
   "execution_count": 27,
   "metadata": {},
   "outputs": [
    {
     "data": {
      "text/plain": [
       "array([0.38575741, 0.42988268, 0.48948445, 0.86187021, 0.88479431,\n",
       "       0.30609077, 0.6714646 , 0.78655002, 0.3946493 , 0.654321  ,\n",
       "       0.40940196, 0.57751825, 0.92057887, 0.61542283, 0.40589373,\n",
       "       0.59265409, 0.43546728, 0.57594039, 0.42715318, 0.38822052,\n",
       "       0.91080467, 0.30368368, 0.88245169, 0.0689371 , 0.94874816,\n",
       "       0.84090088, 0.12412374, 0.20391157, 0.2904362 , 0.57885729])"
      ]
     },
     "execution_count": 27,
     "metadata": {},
     "output_type": "execute_result"
    }
   ],
   "source": [
    "esempio= np.random.rand(30)\n",
    "esem"
   ]
  },
  {
   "cell_type": "code",
   "execution_count": 2,
   "metadata": {},
   "outputs": [
    {
     "data": {
      "text/plain": [
       "(array([0, 1, 3, 5], dtype=int64),)"
      ]
     },
     "execution_count": 2,
     "metadata": {},
     "output_type": "execute_result"
    }
   ],
   "source": [
    "#esercizio 3\n",
    "import numpy as np\n",
    "arr= np.array([3,5,0,4,0,8,0])\n",
    "result = np.where(arr)\n",
    "result"
   ]
  },
  {
   "cell_type": "code",
   "execution_count": null,
   "metadata": {},
   "outputs": [],
   "source": []
  },
  {
   "cell_type": "code",
   "execution_count": null,
   "metadata": {},
   "outputs": [],
   "source": []
  },
  {
   "cell_type": "code",
   "execution_count": 12,
   "metadata": {},
   "outputs": [
    {
     "name": "stdout",
     "output_type": "stream",
     "text": [
      "array disordinato:\t [1234 5654 1800 4634 8100]\n",
      "array ordinato:\t [1234, 1800, 4634, 5654, 8100]\n",
      "\n",
      "\n",
      "indice degli elementi disordinato dell_array:\t (array([0, 1, 2, 3, 4], dtype=int64),)\n",
      "indice degli elementi ordinati dell_array:\t (array([0, 1, 2, 3, 4], dtype=int64),)\n"
     ]
    }
   ],
   "source": [
    "#esercizio 4\n",
    "g = np.array([1234,5654,1800,4634,8100])\n",
    "h= sorted(g)\n",
    "print ('array disordinato:\\t',g)\n",
    "print ('array ordinato:\\t',h)\n",
    "print('\\n')\n",
    "risultato = np.where(g)\n",
    "risultato_ord= np.where(h)\n",
    "print ('indice degli elementi disordinato dell_array:\\t',risultato)\n",
    "print ('indice degli elementi ordinati dell_array:\\t',risultato)"
   ]
  },
  {
   "cell_type": "code",
   "execution_count": 7,
   "metadata": {},
   "outputs": [
    {
     "name": "stdout",
     "output_type": "stream",
     "text": [
      "array:\t\n",
      " [[89 57]\n",
      " [35 75]]\n",
      "\n",
      "\n",
      "media di ogni colonna:\t [62. 66.]\n",
      "media di ogni riga:\t [73. 55.]\n"
     ]
    }
   ],
   "source": [
    "#esercizio 5\n",
    "import numpy as np\n",
    "k = np.array([89,57,35,75]).reshape(2,2)\n",
    "print('array:\\t\\n',k)\n",
    "print('\\n')\n",
    "print('media di ogni colonna:\\t',k.mean(axis=0))\n",
    "print('media di ogni riga:\\t',k.mean(axis=1))"
   ]
  },
  {
   "cell_type": "code",
   "execution_count": 13,
   "metadata": {},
   "outputs": [
    {
     "name": "stdout",
     "output_type": "stream",
     "text": [
      "[0 2 3 1 4]\n"
     ]
    }
   ],
   "source": [
    "g = np.array([1234,5654,1800,4634,8100])\n",
    "print (np.argsort(g))"
   ]
  },
  {
   "cell_type": "code",
   "execution_count": 52,
   "metadata": {},
   "outputs": [
    {
     "data": {
      "text/plain": [
       "array([[1, 2, 3],\n",
       "       [4, 5, 6],\n",
       "       [7, 8, 9]])"
      ]
     },
     "execution_count": 52,
     "metadata": {},
     "output_type": "execute_result"
    }
   ],
   "source": [
    "import numpy as np\n",
    "c= np.array([[1,2,3],[4,5,6],[7,8,9]])\n",
    "c"
   ]
  },
  {
   "cell_type": "code",
   "execution_count": 53,
   "metadata": {},
   "outputs": [
    {
     "data": {
      "text/plain": [
       "numpy.ndarray"
      ]
     },
     "execution_count": 53,
     "metadata": {},
     "output_type": "execute_result"
    }
   ],
   "source": [
    "type(c)"
   ]
  },
  {
   "cell_type": "code",
   "execution_count": 54,
   "metadata": {},
   "outputs": [
    {
     "data": {
      "text/plain": [
       "(3, 3)"
      ]
     },
     "execution_count": 54,
     "metadata": {},
     "output_type": "execute_result"
    }
   ],
   "source": [
    "c.shape"
   ]
  },
  {
   "cell_type": "code",
   "execution_count": 61,
   "metadata": {},
   "outputs": [
    {
     "data": {
      "text/plain": [
       "array([[[1, 2, 3]],\n",
       "\n",
       "       [[4, 5, 6]],\n",
       "\n",
       "       [[7, 8, 9]]])"
      ]
     },
     "execution_count": 61,
     "metadata": {},
     "output_type": "execute_result"
    }
   ],
   "source": [
    "c.reshape(3,1,3)"
   ]
  },
  {
   "cell_type": "code",
   "execution_count": 65,
   "metadata": {},
   "outputs": [
    {
     "data": {
      "text/plain": [
       "array([ 1,  2,  3,  4,  5,  6,  7,  8,  9, 10, 11, 12])"
      ]
     },
     "execution_count": 65,
     "metadata": {},
     "output_type": "execute_result"
    }
   ],
   "source": [
    "array_da_12= np.array([1,2,3,4,5,6,7,8,9,10,11,12])\n",
    "array_da_12"
   ]
  },
  {
   "cell_type": "code",
   "execution_count": 66,
   "metadata": {},
   "outputs": [
    {
     "data": {
      "text/plain": [
       "array([[ 1,  2,  3,  4,  5,  6],\n",
       "       [ 7,  8,  9, 10, 11, 12]])"
      ]
     },
     "execution_count": 66,
     "metadata": {},
     "output_type": "execute_result"
    }
   ],
   "source": [
    "array_da_12.reshape(2,6)"
   ]
  },
  {
   "cell_type": "code",
   "execution_count": 67,
   "metadata": {},
   "outputs": [
    {
     "data": {
      "text/plain": [
       "array([[[ 1,  2],\n",
       "        [ 3,  4],\n",
       "        [ 5,  6]],\n",
       "\n",
       "       [[ 7,  8],\n",
       "        [ 9, 10],\n",
       "        [11, 12]]])"
      ]
     },
     "execution_count": 67,
     "metadata": {},
     "output_type": "execute_result"
    }
   ],
   "source": [
    "array_da_12.reshape(2,3,2)"
   ]
  },
  {
   "cell_type": "code",
   "execution_count": 70,
   "metadata": {},
   "outputs": [
    {
     "data": {
      "text/plain": [
       "array([[ 1,  2,  3,  4,  5,  6],\n",
       "       [ 7,  8,  9, 10, 11, 12]])"
      ]
     },
     "execution_count": 70,
     "metadata": {},
     "output_type": "execute_result"
    }
   ],
   "source": [
    "array_da_12.shape=(2,6)\n",
    "array_da_12"
   ]
  },
  {
   "cell_type": "code",
   "execution_count": 71,
   "metadata": {},
   "outputs": [
    {
     "data": {
      "text/plain": [
       "(2, 6)"
      ]
     },
     "execution_count": 71,
     "metadata": {},
     "output_type": "execute_result"
    }
   ],
   "source": [
    "array_da_12.shape"
   ]
  },
  {
   "cell_type": "code",
   "execution_count": 72,
   "metadata": {},
   "outputs": [
    {
     "data": {
      "text/plain": [
       "dtype('int32')"
      ]
     },
     "execution_count": 72,
     "metadata": {},
     "output_type": "execute_result"
    }
   ],
   "source": [
    "array_da_12.dtype"
   ]
  },
  {
   "cell_type": "raw",
   "metadata": {},
   "source": []
  },
  {
   "cell_type": "code",
   "execution_count": 74,
   "metadata": {},
   "outputs": [
    {
     "data": {
      "text/plain": [
       "array([145,  37,  75,  34])"
      ]
     },
     "execution_count": 74,
     "metadata": {},
     "output_type": "execute_result"
    }
   ],
   "source": [
    "a= np.array([100,25,70,55])\n",
    "b= np.array([45,12,5,-21])\n",
    "a+b"
   ]
  },
  {
   "cell_type": "code",
   "execution_count": 75,
   "metadata": {},
   "outputs": [
    {
     "data": {
      "text/plain": [
       "array([ True,  True,  True, False])"
      ]
     },
     "execution_count": 75,
     "metadata": {},
     "output_type": "execute_result"
    }
   ],
   "source": [
    "b>0"
   ]
  },
  {
   "cell_type": "code",
   "execution_count": 76,
   "metadata": {},
   "outputs": [
    {
     "data": {
      "text/plain": [
       "array([False, False, False,  True])"
      ]
     },
     "execution_count": 76,
     "metadata": {},
     "output_type": "execute_result"
    }
   ],
   "source": [
    "b<0"
   ]
  },
  {
   "cell_type": "code",
   "execution_count": 77,
   "metadata": {},
   "outputs": [
    {
     "data": {
      "text/plain": [
       "array([80., 20., 56., 44.])"
      ]
     },
     "execution_count": 77,
     "metadata": {},
     "output_type": "execute_result"
    }
   ],
   "source": [
    "a*0.8"
   ]
  },
  {
   "cell_type": "code",
   "execution_count": 79,
   "metadata": {},
   "outputs": [
    {
     "data": {
      "text/plain": [
       "dtype('float64')"
      ]
     },
     "execution_count": 79,
     "metadata": {},
     "output_type": "execute_result"
    }
   ],
   "source": [
    "(a*0.8).dtype"
   ]
  },
  {
   "cell_type": "code",
   "execution_count": 80,
   "metadata": {},
   "outputs": [
    {
     "data": {
      "text/plain": [
       "dtype('int32')"
      ]
     },
     "execution_count": 80,
     "metadata": {},
     "output_type": "execute_result"
    }
   ],
   "source": [
    "b.dtype"
   ]
  },
  {
   "cell_type": "code",
   "execution_count": 87,
   "metadata": {},
   "outputs": [
    {
     "data": {
      "text/plain": [
       "array([ 1,  2,  3,  4,  5,  6,  7,  8,  9, 10, 11, 12, 13, 14, 15, 16, 17,\n",
       "       18, 19, 20, 21, 22, 23, 24, 25, 26, 27, 28, 29, 30, 31, 32, 33, 34,\n",
       "       35, 36, 37, 38, 39, 40, 41, 42, 43, 44, 45, 46, 47, 48])"
      ]
     },
     "execution_count": 87,
     "metadata": {},
     "output_type": "execute_result"
    }
   ],
   "source": [
    "v=np.arange(1,49)\n",
    "v"
   ]
  },
  {
   "cell_type": "code",
   "execution_count": 88,
   "metadata": {},
   "outputs": [
    {
     "data": {
      "text/plain": [
       "(48,)"
      ]
     },
     "execution_count": 88,
     "metadata": {},
     "output_type": "execute_result"
    }
   ],
   "source": [
    "v.shape"
   ]
  },
  {
   "cell_type": "code",
   "execution_count": 93,
   "metadata": {},
   "outputs": [
    {
     "data": {
      "text/plain": [
       "array([[ 1,  2,  3,  4],\n",
       "       [ 5,  6,  7,  8],\n",
       "       [ 9, 10, 11, 12],\n",
       "       [13, 14, 15, 16],\n",
       "       [17, 18, 19, 20],\n",
       "       [21, 22, 23, 24],\n",
       "       [25, 26, 27, 28],\n",
       "       [29, 30, 31, 32],\n",
       "       [33, 34, 35, 36],\n",
       "       [37, 38, 39, 40],\n",
       "       [41, 42, 43, 44],\n",
       "       [45, 46, 47, 48]])"
      ]
     },
     "execution_count": 93,
     "metadata": {},
     "output_type": "execute_result"
    }
   ],
   "source": [
    "v12x4=v.reshape(12,4)\n",
    "v12x4"
   ]
  },
  {
   "cell_type": "code",
   "execution_count": 95,
   "metadata": {},
   "outputs": [
    {
     "data": {
      "text/plain": [
       "array([[ 1,  2,  3,  4,  5,  6,  7,  8],\n",
       "       [ 9, 10, 11, 12, 13, 14, 15, 16],\n",
       "       [17, 18, 19, 20, 21, 22, 23, 24],\n",
       "       [25, 26, 27, 28, 29, 30, 31, 32],\n",
       "       [33, 34, 35, 36, 37, 38, 39, 40],\n",
       "       [41, 42, 43, 44, 45, 46, 47, 48]])"
      ]
     },
     "execution_count": 95,
     "metadata": {},
     "output_type": "execute_result"
    }
   ],
   "source": [
    "v6x8= np.arange(1,49).reshape(6,8)\n",
    "v6x8"
   ]
  },
  {
   "cell_type": "code",
   "execution_count": 104,
   "metadata": {},
   "outputs": [
    {
     "data": {
      "text/plain": [
       "array([[ 1.63547615, 76.39158998, 22.00272101],\n",
       "       [95.06214888, 53.97201557, 26.74573115],\n",
       "       [47.72307589, 54.51450516, 63.53931997]])"
      ]
     },
     "execution_count": 104,
     "metadata": {},
     "output_type": "execute_result"
    }
   ],
   "source": [
    "np.random.random((3,3))*100"
   ]
  },
  {
   "cell_type": "code",
   "execution_count": 106,
   "metadata": {},
   "outputs": [
    {
     "data": {
      "text/plain": [
       "array([[6.23042070e-307, 1.86918699e-306, 1.69121096e-306,\n",
       "        1.95819673e-306, 6.23054972e-307],\n",
       "       [8.45593934e-307, 7.56593017e-307, 1.11261027e-306,\n",
       "        1.11261502e-306, 1.42410839e-306],\n",
       "       [7.56597770e-307, 6.23059726e-307, 8.90104239e-307,\n",
       "        6.89804133e-307, 1.69118923e-306],\n",
       "       [1.24611945e-306, 6.23059726e-307, 1.42420209e-306,\n",
       "        9.34605037e-307, 1.05700515e-307],\n",
       "       [1.11261774e-306, 1.29060871e-306, 8.34424766e-308,\n",
       "        2.12203497e-312, 2.10081501e-312]])"
      ]
     },
     "execution_count": 106,
     "metadata": {},
     "output_type": "execute_result"
    }
   ],
   "source": [
    "vuoto = np.empty((5,5))\n",
    "vuoto"
   ]
  },
  {
   "cell_type": "code",
   "execution_count": 109,
   "metadata": {},
   "outputs": [
    {
     "data": {
      "text/plain": [
       "array([[1., 1., 1., 1., 1.],\n",
       "       [1., 1., 1., 1., 1.],\n",
       "       [1., 1., 1., 1., 1.],\n",
       "       [1., 1., 1., 1., 1.],\n",
       "       [1., 1., 1., 1., 1.]])"
      ]
     },
     "execution_count": 109,
     "metadata": {},
     "output_type": "execute_result"
    }
   ],
   "source": [
    "uno=np.ones((5,5))\n",
    "uno"
   ]
  },
  {
   "cell_type": "code",
   "execution_count": 111,
   "metadata": {},
   "outputs": [
    {
     "data": {
      "text/plain": [
       "array([[0., 0., 0., 0., 0.],\n",
       "       [0., 0., 0., 0., 0.],\n",
       "       [0., 0., 0., 0., 0.],\n",
       "       [0., 0., 0., 0., 0.]])"
      ]
     },
     "execution_count": 111,
     "metadata": {},
     "output_type": "execute_result"
    }
   ],
   "source": [
    "zero=np.zeros((4,5))\n",
    "zero"
   ]
  },
  {
   "cell_type": "code",
   "execution_count": 113,
   "metadata": {},
   "outputs": [
    {
     "data": {
      "text/plain": [
       "array([[7, 7, 7, 7, 7],\n",
       "       [7, 7, 7, 7, 7],\n",
       "       [7, 7, 7, 7, 7],\n",
       "       [7, 7, 7, 7, 7],\n",
       "       [7, 7, 7, 7, 7],\n",
       "       [7, 7, 7, 7, 7]])"
      ]
     },
     "execution_count": 113,
     "metadata": {},
     "output_type": "execute_result"
    }
   ],
   "source": [
    "seven = np.full((6,5),7)\n",
    "seven"
   ]
  },
  {
   "cell_type": "code",
   "execution_count": 115,
   "metadata": {},
   "outputs": [
    {
     "data": {
      "text/plain": [
       "array([[[7, 7, 7, 7, 7],\n",
       "        [7, 7, 7, 7, 7],\n",
       "        [7, 7, 7, 7, 7],\n",
       "        [7, 7, 7, 7, 7]],\n",
       "\n",
       "       [[7, 7, 7, 7, 7],\n",
       "        [7, 7, 7, 7, 7],\n",
       "        [7, 7, 7, 7, 7],\n",
       "        [7, 7, 7, 7, 7]],\n",
       "\n",
       "       [[7, 7, 7, 7, 7],\n",
       "        [7, 7, 7, 7, 7],\n",
       "        [7, 7, 7, 7, 7],\n",
       "        [7, 7, 7, 7, 7]]])"
      ]
     },
     "execution_count": 115,
     "metadata": {},
     "output_type": "execute_result"
    }
   ],
   "source": [
    "piu_dimensioni= np.full((3,4,5),7)\n",
    "piu_dimensioni"
   ]
  },
  {
   "cell_type": "code",
   "execution_count": 116,
   "metadata": {},
   "outputs": [
    {
     "data": {
      "text/plain": [
       "array([1, 2, 3, 4, 5, 6, 7, 8, 9])"
      ]
     },
     "execution_count": 116,
     "metadata": {},
     "output_type": "execute_result"
    }
   ],
   "source": [
    "valori= np.array([1,2,3,4,5,6,7,8,9])\n",
    "valori"
   ]
  },
  {
   "cell_type": "code",
   "execution_count": 121,
   "metadata": {},
   "outputs": [
    {
     "data": {
      "text/plain": [
       "7"
      ]
     },
     "execution_count": 121,
     "metadata": {},
     "output_type": "execute_result"
    }
   ],
   "source": [
    "valori[6]"
   ]
  },
  {
   "cell_type": "raw",
   "metadata": {},
   "source": []
  },
  {
   "cell_type": "code",
   "execution_count": 122,
   "metadata": {},
   "outputs": [
    {
     "data": {
      "text/plain": [
       "array([4, 5, 6, 7, 8])"
      ]
     },
     "execution_count": 122,
     "metadata": {},
     "output_type": "execute_result"
    }
   ],
   "source": [
    "valori[3:8]"
   ]
  },
  {
   "cell_type": "code",
   "execution_count": 123,
   "metadata": {},
   "outputs": [
    {
     "data": {
      "text/plain": [
       "array([1, 2, 3, 4, 5])"
      ]
     },
     "execution_count": 123,
     "metadata": {},
     "output_type": "execute_result"
    }
   ],
   "source": [
    "valori[:5]"
   ]
  },
  {
   "cell_type": "code",
   "execution_count": 126,
   "metadata": {},
   "outputs": [
    {
     "data": {
      "text/plain": [
       "array([6, 7, 8, 9])"
      ]
     },
     "execution_count": 126,
     "metadata": {},
     "output_type": "execute_result"
    }
   ],
   "source": [
    "valori[5:]"
   ]
  },
  {
   "cell_type": "code",
   "execution_count": 127,
   "metadata": {},
   "outputs": [
    {
     "data": {
      "text/plain": [
       "array([7, 8, 9])"
      ]
     },
     "execution_count": 127,
     "metadata": {},
     "output_type": "execute_result"
    }
   ],
   "source": [
    "valori[-3:]"
   ]
  },
  {
   "cell_type": "code",
   "execution_count": 139,
   "metadata": {},
   "outputs": [
    {
     "data": {
      "text/plain": [
       "array([[0.64660118, 3.70078515, 8.1352845 , 4.4290186 ],\n",
       "       [7.3247489 , 3.12727883, 3.11092801, 1.94155013],\n",
       "       [1.84724376, 8.92454906, 3.02105354, 8.08528755],\n",
       "       [4.00467282, 5.51895848, 6.52449911, 8.43983898],\n",
       "       [1.67002289, 5.72783429, 9.25330788, 5.77044065],\n",
       "       [0.87087911, 2.25650337, 8.64699864, 4.03275442],\n",
       "       [6.81217411, 0.78536647, 8.77711923, 3.03120973]])"
      ]
     },
     "execution_count": 139,
     "metadata": {},
     "output_type": "execute_result"
    }
   ],
   "source": [
    "duedimensioni=np.array(np.random.random(28)*10).reshape(7,4)\n",
    "duedimensioni"
   ]
  },
  {
   "cell_type": "code",
   "execution_count": 142,
   "metadata": {},
   "outputs": [
    {
     "data": {
      "text/plain": [
       "0.6466011789932491"
      ]
     },
     "execution_count": 142,
     "metadata": {},
     "output_type": "execute_result"
    }
   ],
   "source": [
    "duedimensioni[0][0]"
   ]
  },
  {
   "cell_type": "code",
   "execution_count": 143,
   "metadata": {},
   "outputs": [
    {
     "data": {
      "text/plain": [
       "numpy.ndarray"
      ]
     },
     "execution_count": 143,
     "metadata": {},
     "output_type": "execute_result"
    }
   ],
   "source": [
    "type(duedimensioni[1])"
   ]
  },
  {
   "cell_type": "code",
   "execution_count": 144,
   "metadata": {},
   "outputs": [
    {
     "data": {
      "text/plain": [
       "array([[4.00467282, 5.51895848, 6.52449911, 8.43983898],\n",
       "       [1.67002289, 5.72783429, 9.25330788, 5.77044065],\n",
       "       [0.87087911, 2.25650337, 8.64699864, 4.03275442]])"
      ]
     },
     "execution_count": 144,
     "metadata": {},
     "output_type": "execute_result"
    }
   ],
   "source": [
    "duedimensioni[3:6]"
   ]
  },
  {
   "cell_type": "code",
   "execution_count": 147,
   "metadata": {},
   "outputs": [
    {
     "data": {
      "text/plain": [
       "array([1.67002289, 5.72783429, 9.25330788, 5.77044065])"
      ]
     },
     "execution_count": 147,
     "metadata": {},
     "output_type": "execute_result"
    }
   ],
   "source": [
    "duedimensioni[3:6][1]"
   ]
  },
  {
   "cell_type": "code",
   "execution_count": 148,
   "metadata": {},
   "outputs": [
    {
     "data": {
      "text/plain": [
       "5.727834293861001"
      ]
     },
     "execution_count": 148,
     "metadata": {},
     "output_type": "execute_result"
    }
   ],
   "source": [
    "duedimensioni[3:6][1][1]"
   ]
  },
  {
   "cell_type": "code",
   "execution_count": 153,
   "metadata": {},
   "outputs": [
    {
     "data": {
      "text/plain": [
       "array([[6.46601179e-01, 3.70078515e+00, 8.13528450e+00, 4.42901860e+00],\n",
       "       [7.32474890e+00, 3.12727883e+00, 3.11092801e+00, 1.94155013e+00],\n",
       "       [1.84724376e+00, 8.92454906e+00, 8.88000000e+02, 8.08528755e+00],\n",
       "       [4.00467282e+00, 5.51895848e+00, 6.52449911e+00, 8.43983898e+00],\n",
       "       [1.67002289e+00, 5.72783429e+00, 9.25330788e+00, 5.77044065e+00],\n",
       "       [8.70879113e-01, 2.25650337e+00, 8.64699864e+00, 4.03275442e+00],\n",
       "       [6.81217411e+00, 7.85366472e-01, 8.77711923e+00, 3.03120973e+00]])"
      ]
     },
     "execution_count": 153,
     "metadata": {},
     "output_type": "execute_result"
    }
   ],
   "source": [
    "#modifica valori in matrice\n",
    "duedimensioni[2][2]=888\n",
    "duedimensioni"
   ]
  },
  {
   "cell_type": "code",
   "execution_count": 178,
   "metadata": {},
   "outputs": [
    {
     "data": {
      "text/plain": [
       "array([ -35, -678])"
      ]
     },
     "execution_count": 178,
     "metadata": {},
     "output_type": "execute_result"
    }
   ],
   "source": [
    "t = np.array([12,45,-35,65,-678,48,27])\n",
    "t[t<0]"
   ]
  },
  {
   "cell_type": "code",
   "execution_count": 185,
   "metadata": {},
   "outputs": [
    {
     "data": {
      "text/plain": [
       "array([[4, 3, 1, 2],\n",
       "       [5, 2, 7, 3],\n",
       "       [1, 6, 8, 4],\n",
       "       [5, 8, 6, 7]])"
      ]
     },
     "execution_count": 185,
     "metadata": {},
     "output_type": "execute_result"
    }
   ],
   "source": [
    "tavola= np.array([4,3,1,2,5,2,7,3,1,6,8,4,5,8,6,7]).reshape(4,4)\n",
    "tavola"
   ]
  },
  {
   "cell_type": "code",
   "execution_count": null,
   "metadata": {},
   "outputs": [
    {
     "name": "stdout",
     "output_type": "stream",
     "text": [
      "Punto 11\n",
      "punto 2 2\n",
      "X   X   X   X\n",
      "\n",
      "X   X   X   X\n",
      "\n",
      "X   X   X   X\n",
      "\n",
      "X   X   X   X\n",
      "\n",
      "Punto 15\n",
      "punto 2 4\n",
      "X   X   X   X\n",
      "\n",
      "X   X   X   X\n",
      "\n",
      "X   X   X   X\n",
      "\n",
      "X   X   X   X\n",
      "\n",
      "Punto 12\n",
      "punto 2 8\n",
      "X   X   X   X\n",
      "\n",
      "X   X   X   X\n",
      "\n",
      "X   X   X   X\n",
      "\n",
      "X   X   X   X\n",
      "\n",
      "Punto 1k\n",
      "punto 2 ho\n",
      "X   X   X   X\n",
      "\n",
      "X   X   X   X\n",
      "\n",
      "X   X   X   X\n",
      "\n",
      "X   X   X   X\n",
      "\n",
      "Punto 1[0][2]\n",
      "punto 2 [1][2]\n",
      "X   X   X   X\n",
      "\n",
      "X   X   X   X\n",
      "\n",
      "X   X   X   X\n",
      "\n",
      "X   X   X   X\n",
      "\n",
      "Punto 1x\n",
      "punto 2 x\n",
      "X   X   X   X\n",
      "\n",
      "X   X   X   X\n",
      "\n",
      "X   X   X   X\n",
      "\n",
      "X   X   X   X\n",
      "\n",
      "Punto 1X\n",
      "punto 2 X\n",
      "X   X   X   X\n",
      "\n",
      "X   X   X   X\n",
      "\n",
      "X   X   X   X\n",
      "\n",
      "X   X   X   X\n",
      "\n"
     ]
    }
   ],
   "source": [
    "import numpy as np\n",
    "import sys\n",
    "import re\n",
    "from random import shuffle\n",
    "ELEMENTI_LATO = 4\n",
    "\n",
    "def genera_gioco():\n",
    "    elementi=list(range(1,int(ELEMENTI_LATO**2/2)+1))*2\n",
    "    shuffle(elementi)\n",
    "    matrice_controllo = np.zeros((ELEMENTI_LATO, ELEMENTI_LATO), dtype=np.int)\n",
    "    \n",
    "    return np.array(elementi).reshape(ELEMENTI_LATO,ELEMENTI_LATO),matrice_controllo\n",
    "\n",
    "def stampa_matrice(da_stampare):\n",
    "    for x in da_stampare:\n",
    "        print ('   '.join(np.where(x==0, 'X', x.astype(int))))\n",
    "        print()\n",
    "        \n",
    "def gioco_finito():\n",
    "    return trovati[trovati == 0].size==0\n",
    "\n",
    "def soluzione():\n",
    "    da_stampare=tavola*np.ones((ELEMENTI_LATO, ELEMENTI_LATO))\n",
    "    stampa_matrice(da_stampare)\n",
    "    \n",
    "def uscire(comm):\n",
    "    if comm.strip().lower()=='fine':\n",
    "        soluzione()\n",
    "        print(\"Partita interrotta!\")\n",
    "        sys.exit()\n",
    "        \n",
    "def nuova_mano():\n",
    "    punto1= input(\"Punto 1\")\n",
    "    uscire(punto1)\n",
    "    punto2= input(\"punto 2 \")\n",
    "    uscire(punto2)\n",
    "    if re.match(r'^\\d\\s+\\d$',punto1)!=None and re.match(r'^\\d\\s+\\d$', punto2)!=None:\n",
    "        x1, y1=punto1.split()\n",
    "        x2, y2=punto2.split()\n",
    "        verifica(int(x1),int(y1),int(x2),int(y2))\n",
    "        \n",
    "def verifica(x1,y1,x2,y2):\n",
    "    if tavola[x1][y1]==tavola[x2][y2]:\n",
    "        trovati[x1][y1]=1\n",
    "        trovati[x2][y2]=1\n",
    "        print(f\"BRAVO !! Hai trovato la coppia di {tavola[x1][y1]}\")\n",
    "    else:\n",
    "        print(f\"Purtroppo hai sbagliato. C'erano {tavola[x1][y1]} e {tavola[x2][y2]}\")\n",
    "        \n",
    "def gioco():\n",
    "    while not gioco_finito():\n",
    "        nuova_mano()\n",
    "        stampa_matrice(tavola*trovati)\n",
    "    print(\"Complimenti . . . hai vinto!!!\")\n",
    "    \n",
    "tavola,trovati = genera_gioco()\n",
    "gioco()\n",
    "        \n",
    "\n"
   ]
  },
  {
   "cell_type": "code",
   "execution_count": null,
   "metadata": {},
   "outputs": [],
   "source": []
  }
 ],
 "metadata": {
  "kernelspec": {
   "display_name": "Python 3",
   "language": "python",
   "name": "python3"
  },
  "language_info": {
   "codemirror_mode": {
    "name": "ipython",
    "version": 3
   },
   "file_extension": ".py",
   "mimetype": "text/x-python",
   "name": "python",
   "nbconvert_exporter": "python",
   "pygments_lexer": "ipython3",
   "version": "3.8.5"
  },
  "toc": {
   "base_numbering": 1,
   "nav_menu": {},
   "number_sections": true,
   "sideBar": false,
   "skip_h1_title": false,
   "title_cell": "Table of Contents",
   "title_sidebar": "Contents",
   "toc_cell": true,
   "toc_position": {
    "height": "790px",
    "left": "42px",
    "top": "111px",
    "width": "165px"
   },
   "toc_section_display": true,
   "toc_window_display": true
  }
 },
 "nbformat": 4,
 "nbformat_minor": 2
}
