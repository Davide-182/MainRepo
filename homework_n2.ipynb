{
 "cells": [
  {
   "cell_type": "code",
   "execution_count": null,
   "metadata": {
    "toc": true
   },
   "outputs": [],
   "source": []
  },
  {
   "cell_type": "markdown",
   "metadata": {},
   "source": []
  },
  {
   "cell_type": "markdown",
   "metadata": {},
   "source": []
  },
  {
   "cell_type": "code",
   "execution_count": null,
   "metadata": {},
   "outputs": [],
   "source": []
  },
  {
   "cell_type": "markdown",
   "metadata": {},
   "source": []
  },
  {
   "cell_type": "code",
   "execution_count": null,
   "metadata": {},
   "outputs": [],
   "source": []
  },
  {
   "cell_type": "markdown",
   "metadata": {},
   "source": [
    "\n"
   ]
  },
  {
   "cell_type": "markdown",
   "metadata": {},
   "source": []
  },
  {
   "cell_type": "code",
   "execution_count": 8,
   "metadata": {},
   "outputs": [],
   "source": []
  },
  {
   "cell_type": "code",
   "execution_count": null,
   "metadata": {},
   "outputs": [],
   "source": []
  },
  {
   "cell_type": "markdown",
   "metadata": {},
   "source": []
  },
  {
   "cell_type": "markdown",
   "metadata": {},
   "source": []
  },
  {
   "cell_type": "code",
   "execution_count": 11,
   "metadata": {},
   "outputs": [],
   "source": [
    "\n"
   ]
  },
  {
   "cell_type": "code",
   "execution_count": null,
   "metadata": {},
   "outputs": [],
   "source": []
  },
  {
   "cell_type": "code",
   "execution_count": null,
   "metadata": {},
   "outputs": [],
   "source": []
  },
  {
   "cell_type": "code",
   "execution_count": null,
   "metadata": {},
   "outputs": [],
   "source": []
  },
  {
   "cell_type": "markdown",
   "metadata": {},
   "source": []
  },
  {
   "cell_type": "code",
   "execution_count": null,
   "metadata": {},
   "outputs": [],
   "source": []
  },
  {
   "cell_type": "code",
   "execution_count": null,
   "metadata": {},
   "outputs": [],
   "source": []
  },
  {
   "cell_type": "markdown",
   "metadata": {},
   "source": []
  },
  {
   "cell_type": "code",
   "execution_count": null,
   "metadata": {},
   "outputs": [],
   "source": []
  },
  {
   "cell_type": "code",
   "execution_count": null,
   "metadata": {},
   "outputs": [],
   "source": []
  },
  {
   "cell_type": "code",
   "execution_count": null,
   "metadata": {},
   "outputs": [],
   "source": []
  },
  {
   "cell_type": "code",
   "execution_count": null,
   "metadata": {},
   "outputs": [],
   "source": []
  },
  {
   "cell_type": "markdown",
   "metadata": {},
   "source": [
    "Homework\n",
    "===\n",
    "\n",
    "1) Data questa lista di interi lista = [0,2,5,7,8.9] calcola il massimo, minimo, somma e media dei suoi elementi\n",
    "\n",
    "2) Crea una lista vuota, inserisci numeri interi a tuo piacimento alla lista e poi rimuovi da essa solo i numeri pari\n",
    "\n",
    "3) Crea una funzione che restituisca **True** se la lista di numeri interi che prende come parametro è una lista di quadrati perfetti (es 4, 9, 16 ecc..), **False** altrimenti\n",
    "\n",
    "4) Svolgi l'esercizio precedente utilizzando una compressione di liste"
   ]
  },
  {
   "cell_type": "code",
   "execution_count": 5,
   "metadata": {},
   "outputs": [
    {
     "name": "stdout",
     "output_type": "stream",
     "text": [
      "il massimo è: 9\n",
      "il minimo è: 0\n",
      "la media degli elementi è: 5.166666666666667\n"
     ]
    }
   ],
   "source": [
    "#esercizio 1\n",
    "es1 = [0,2,5,7,8,9]\n",
    "sorted(es1)\n",
    "print ('il massimo è:',es1[-1])\n",
    "print ('il minimo è:',es1[0])\n",
    "medi_a = somma(es1)/len(es1)\n",
    "print ('la media degli elementi è:',medi_a)"
   ]
  },
  {
   "cell_type": "code",
   "execution_count": 4,
   "metadata": {},
   "outputs": [
    {
     "data": {
      "text/plain": [
       "31"
      ]
     },
     "execution_count": 4,
     "metadata": {},
     "output_type": "execute_result"
    }
   ],
   "source": [
    "def somma(x):\n",
    "    s = 0\n",
    "    for i in x:\n",
    "        s = s + i\n",
    "    return s\n",
    "somma(es1)"
   ]
  },
  {
   "cell_type": "code",
   "execution_count": null,
   "metadata": {},
   "outputs": [],
   "source": [
    "\n"
   ]
  },
  {
   "cell_type": "code",
   "execution_count": 25,
   "metadata": {},
   "outputs": [
    {
     "name": "stdout",
     "output_type": "stream",
     "text": [
      "[5, 7, 3, 5]\n"
     ]
    }
   ],
   "source": [
    "#esercizio 2\n",
    "\n",
    "listav= []\n",
    "listap= listav + [5,7,6,3,4,5,8]\n",
    "for i in listap:\n",
    "    if i %2 ==0:\n",
    "        listap.remove(i)\n",
    "print (listap)"
   ]
  },
  {
   "cell_type": "code",
   "execution_count": 53,
   "metadata": {},
   "outputs": [
    {
     "name": "stdout",
     "output_type": "stream",
     "text": [
      "True\n",
      "True\n",
      "True\n",
      "False\n",
      "True\n",
      "False\n"
     ]
    }
   ],
   "source": [
    "#esercizio 3 \n",
    "import math\n",
    "def lista_quadrata(list_a):\n",
    "    for i in list_a:\n",
    "        f= math.sqrt(i)\n",
    "        if f **2==i:\n",
    "                print(True)\n",
    "        else:\n",
    "            print(False)\n",
    "            \n",
    "\n",
    "list_a= [4,9,121,8,25,3]\n",
    "lista_quadrata(list_a)"
   ]
  },
  {
   "cell_type": "code",
   "execution_count": 81,
   "metadata": {},
   "outputs": [
    {
     "name": "stdout",
     "output_type": "stream",
     "text": [
      "True\n",
      "True\n",
      "True\n",
      "True\n",
      "False\n"
     ]
    }
   ],
   "source": [
    "def lista_quadrata(list_a):\n",
    "    for i in list_a:\n",
    "        f= math.sqrt(i)\n",
    "        if f **2 == i:\n",
    "            print (True)\n",
    "        else:\n",
    "            print (False)\n",
    "            \n",
    "\n",
    "list_a= [4,9,16,25,50]\n",
    "lista_quadrata(list_a)\n",
    "# e si mi sono fermato qui"
   ]
  },
  {
   "cell_type": "code",
   "execution_count": null,
   "metadata": {},
   "outputs": [],
   "source": []
  },
  {
   "cell_type": "code",
   "execution_count": null,
   "metadata": {},
   "outputs": [],
   "source": []
  }
 ],
 "metadata": {
  "kernelspec": {
   "display_name": "Python 3",
   "language": "python",
   "name": "python3"
  },
  "language_info": {
   "codemirror_mode": {
    "name": "ipython",
    "version": 3
   },
   "file_extension": ".py",
   "mimetype": "text/x-python",
   "name": "python",
   "nbconvert_exporter": "python",
   "pygments_lexer": "ipython3",
   "version": "3.8.5"
  },
  "toc": {
   "base_numbering": 1,
   "nav_menu": {},
   "number_sections": true,
   "sideBar": true,
   "skip_h1_title": false,
   "title_cell": "Table of Contents",
   "title_sidebar": "Contents",
   "toc_cell": true,
   "toc_position": {
    "height": "calc(100% - 180px)",
    "left": "10px",
    "top": "150px",
    "width": "196.391px"
   },
   "toc_section_display": true,
   "toc_window_display": true
  }
 },
 "nbformat": 4,
 "nbformat_minor": 2
}
